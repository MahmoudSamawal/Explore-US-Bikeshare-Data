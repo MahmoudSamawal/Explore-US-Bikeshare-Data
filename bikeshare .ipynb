{
  "nbformat": 4,
  "nbformat_minor": 0,
  "metadata": {
    "accelerator": "GPU",
    "colab": {
      "name": "bikeshare.ipynb",
      "provenance": [],
      "collapsed_sections": []
    },
    "kernelspec": {
      "display_name": "Python 3",
      "name": "python3"
    },
    "language_info": {
      "name": "python"
    }
  },
  "cells": [
    {
      "cell_type": "markdown",
      "metadata": {
        "id": "0GM3wUWQ4bNU"
      },
      "source": [
        "# Importing and declaration of the data"
      ]
    },
    {
      "cell_type": "code",
      "metadata": {
        "id": "zHZB36HGsj8f"
      },
      "source": [
        "import pandas as pd\n",
        "import numpy as np\n",
        "import datetime\n",
        "import calendar \n",
        "import time\n",
        "\n",
        "CITY_DATA = { 'Chicago': '/content/drive/MyDrive/FWD/Data/Professional/1st Project/chicago.xlsx',\n",
        "              'Newyork': '/content/drive/MyDrive/FWD/Data/Professional/1st Project/new_york_city.xlsx',\n",
        "              'Washington': '/content/drive/MyDrive/FWD/Data/Professional/1st Project/washington.xlsx' }\n",
        "\n",
        "MONTHS={\"All\":\"\",\"January\":\"\", \"February\":\"\", \"March\":\"\", \"April\":\"\", \"May\":\"\", \"June\":\"\"}\n",
        "DAYS={\"All\":\"\",\"Saturday\":\"\",\"Sunday\":\"\",\"Monday\":\"\",\"Tuesday\":\"\",\"Wednesday\":\"\",\"Thursday\":\"\",\"Friday\":\"\"}"
      ],
      "execution_count": null,
      "outputs": []
    },
    {
      "cell_type": "markdown",
      "metadata": {
        "id": "BUGl9Kkp4o5i"
      },
      "source": [
        "#Get the user data , which the analysis will be applied on"
      ]
    },
    {
      "cell_type": "code",
      "metadata": {
        "id": "IOkjf9_3vxqa"
      },
      "source": [
        "def get_filters():\n",
        "\n",
        "  \"\"\"\n",
        "    Asks user to specify a city, month, and day to analyze.\n",
        "\n",
        "    Returns:\n",
        "        (str) city - name of the city to analyze\n",
        "        (str) month - name of the month to filter by, or \"all\" to apply no month filter\n",
        "        (str) day - name of the day of week to filter by, or \"all\" to apply no day filter\n",
        "  \"\"\"\n",
        "  print('Hello! Let\\'s explore some US bikeshare data!')\n",
        "\n",
        "  # TO DO: get user input for city (chicago, new york city, washington). HINT: Use a while loop to handle invalid inputs\n",
        "  while True:\n",
        "    try:\n",
        "      city=str(input('Choose a city name to analyze from(Chicago,Newyork,Washington)')).title()\n",
        "      CITY_DATA[city]\n",
        "      break\n",
        "    except :\n",
        "      print('It is an invalid word')\n",
        "\n",
        "  # TO DO: get user input for month (all, january, february, ... , june)\n",
        "  while True:\n",
        "    try:\n",
        "      month=input('Choose a month name to analyze from(\"All\",\"January\", \"February\", \"March\", \"April\", \"May\", \"June\")')\n",
        "      MONTHS[month]\n",
        "      break\n",
        "    except KeyError:\n",
        "      print('It is an invalid word')\n",
        "  \n",
        "\n",
        "\n",
        "  # TO DO: get user input for day of week (all, monday, tuesday, ... sunday)\n",
        "  while True:\n",
        "    try:\n",
        "      day=input('Choose a day name to analyze from(\"All\",\"Saturday\",\"Sunday\",\"Monday\",\"Tuesday\",\"Wednesday\",\"Thursday\",\"Friday\")')\n",
        "      DAYS[day]\n",
        "      break\n",
        "    except KeyError:\n",
        "      print('It is an invalid word')\n",
        "\n",
        "\n",
        "  print('-'*40)\n",
        "  print('The Entered Filters are, City:{} , Month:{} , Day:{}'.format(city,month,day))\n",
        "  return city, month, day\n",
        "\n",
        "#city, month, day=get_filters()"
      ],
      "execution_count": null,
      "outputs": []
    },
    {
      "cell_type": "markdown",
      "metadata": {
        "id": "FEZn82YH5El6"
      },
      "source": [
        "# Acquire the chosen data"
      ]
    },
    {
      "cell_type": "code",
      "metadata": {
        "id": "5WGbz-w_ipJe"
      },
      "source": [
        "def load_data(city, month, day):\n",
        "    \n",
        "  \"\"\"\n",
        "    Loads data for the specified city and filters by month and day if applicable.\n",
        "\n",
        "    Args:\n",
        "    (str) city - name of the city to analyze\n",
        "    (str) month - name of the month to filter by, or \"all\" to apply no month filter\n",
        "        (str) day - name of the day of week to filter by, or \"all\" to apply no day filter\n",
        "    Returns:\n",
        "        df - pandas DataFrame containing city data filtered by month and day\n",
        "  \"\"\"\n",
        "    \n",
        "  # load data file into a dataframe\n",
        "  df=pd.read_excel(CITY_DATA[city])\n",
        "\n",
        "  # extract month and day of week from Start Time to create new columns\n",
        "  monthlist = np.arange(0,len(df['Start Time']),1)\n",
        "  dayslist = list(np.arange(0,len(df['Start Time']),1))\n",
        "    \n",
        "  for i in range(0,len(df['Start Time']),1):\n",
        "    monthlist[i]=(((str(df['Start Time'][i]).split(' '))[0]).split('-'))[1]\n",
        "    date=((str(df['Start Time'][i]).split(' '))[0])\n",
        "    dayslist[i]=(calendar.day_name[datetime.datetime.strptime(date, '%Y-%m-%d').weekday()])\n",
        "    \n",
        "  df['day_of_week']=dayslist\n",
        "  df['month']=monthlist\n",
        "\n",
        "\n",
        "  # filter by month if applicable\n",
        "  if month != 'All':\n",
        "      # use the index of the months list to get the corresponding int\n",
        "      months = ('January', 'February', 'March', 'April', 'May', 'June')\n",
        "      month = (months.index(month))+1\n",
        "      # filter by month to create the new dataframe\n",
        "      df = df[df['month']==month]\n",
        "        \n",
        "  # filter by day of week if applicable\n",
        "  if day != 'All':\n",
        "    df = df[df['day_of_week']==day]\n",
        "\n",
        "  \n",
        "  print('The Columns Name of Choosen DataFrame are:{}'.format(df.columns)) \n",
        "  return df\n",
        "\n",
        "#df=load_data(city, month, day)"
      ],
      "execution_count": null,
      "outputs": []
    },
    {
      "cell_type": "markdown",
      "metadata": {
        "id": "j2nuLwXJ5cK7"
      },
      "source": [
        "#Performing the EDA "
      ]
    },
    {
      "cell_type": "code",
      "metadata": {
        "id": "AhI-NlZewdkF"
      },
      "source": [
        "def time_stats(df):\n",
        "\n",
        "  \"\"\"Displays statistics on the most frequent times of travel.\"\"\"\n",
        "\n",
        "  print('\\nCalculating The Most Frequent Times of Travel...\\n')\n",
        "  start_time = time.time()\n",
        "\n",
        "  # TO DO: display the most common month\n",
        "  cmonth=int(df['month'].value_counts().idxmax())\n",
        "  months=['January', 'February', 'March', 'April', 'May', 'June']\n",
        "  cmonth=months[cmonth-1]\n",
        "\n",
        "  # TO DO: display the most common day of week\n",
        "  cday=df['day_of_week'].value_counts().idxmax()\n",
        "\n",
        "  # TO DO: display the most common start hour\n",
        "  shlist=list(df['Start Time'])\n",
        "  for i in range(0,len(shlist),1):\n",
        "    shlist[i]=(str((str(shlist[i]).split(' '))[1]).split(':'))[0]\n",
        "  df['Starting Hour']=shlist\n",
        "  cstarthour=df['Starting Hour'].value_counts().idxmax()\n",
        "  print('The Time Statistics are, Common Months:{} , Common Days:{} , Common Starting Hours:{}'.format(cmonth,cday,cstarthour))\n",
        "  print(\"\\nThis took %s seconds.\" % (time.time() - start_time))\n",
        "  print('-'*40)\n",
        "  return cmonth,cday,cstarthour\n",
        "\n",
        "#time_stats(df)"
      ],
      "execution_count": null,
      "outputs": []
    },
    {
      "cell_type": "code",
      "metadata": {
        "id": "sP3NK7jj-19t"
      },
      "source": [
        "def station_stats(df):\n",
        "  \"\"\"Displays statistics on the most popular stations and trip.\"\"\"\n",
        "\n",
        "  print('\\nCalculating The Most Popular Stations and Trip...\\n')\n",
        "  start_time = time.time()\n",
        "\n",
        "  # TO DO: display most commonly used start station\n",
        "  cstartstation=df['Start Station'].value_counts().idxmax()\n",
        "  print('The most commonly used start station is:{} '.format(cstartstation))\n",
        "\n",
        "  # TO DO: display most commonly used end station\n",
        "  cendstation=df['End Station'].value_counts().idxmax()\n",
        "  print('The most commonly used end station is:{} '.format(cendstation))\n",
        "\n",
        "  # TO DO: display most frequent combination of start station and end station trip\n",
        "  ccombination=(df['Start Station']+df['End Station']).value_counts().idxmax()\n",
        "  print('The most frequent combination of start station and end station trip is:{} '.format(ccombination))\n",
        "\n",
        "  print(\"\\nThis took %s seconds.\" % (time.time() - start_time))\n",
        "  print('-'*40)\n",
        "  return cstartstation,cendstation,ccombination\n",
        "#station_stats(df)"
      ],
      "execution_count": null,
      "outputs": []
    },
    {
      "cell_type": "code",
      "metadata": {
        "id": "HcpENO4FDXTO"
      },
      "source": [
        "def trip_duration_stats(df):\n",
        "  \"\"\"Displays statistics on the total and average trip duration.\"\"\"\n",
        "\n",
        "  print('\\nCalculating Trip Duration...\\n')\n",
        "  start_time = time.time()\n",
        "\n",
        "  # TO DO: display total travel time\n",
        "  ttt=df['Trip Duration'].sum()\n",
        "\n",
        "\n",
        "  # TO DO: display mean travel time\n",
        "  mtt=df['Trip Duration'].mean()\n",
        "\n",
        "  print('The Trip Duration Statistics are, Total Travel Time:{} , Mean Travel Time:{}'.format(ttt,mtt))\n",
        "\n",
        "  print(\"\\nThis took %s seconds.\" % (time.time() - start_time))\n",
        "  print('-'*40)\n",
        "  print('The Trip Duration Statistics are, Total Travel Time:{} , Mean Travel Time:{}'.format(ttt,mtt))\n",
        "  return ttt,mtt\n",
        "\n",
        "#print(trip_duration_stats(df))"
      ],
      "execution_count": null,
      "outputs": []
    },
    {
      "cell_type": "code",
      "metadata": {
        "id": "wd8jovYqEd81"
      },
      "source": [
        "def user_stats(df,city):\n",
        "  \"\"\"Displays statistics on bikeshare users.\"\"\"\n",
        "\n",
        "  print('\\nCalculating User Stats...\\n')\n",
        "  start_time = time.time()\n",
        "\n",
        "  # TO DO: Display counts of user types\n",
        "  usertypes=df['User Type'].value_counts()\n",
        "  print('The counts of user types is:{}'.format(usertypes))\n",
        "\n",
        "\n",
        "  specialcities=('Chicago','NewYork')\n",
        "  # TO DO: Display counts of gender\n",
        "  if city in specialcities:\n",
        "    gendercounts=df['Gender'].value_counts()\n",
        "    print('The counts of gender is:{}'.format(gendercounts))  \n",
        "    # TO DO: Display earliest, most recent, and most common year of birth\n",
        "    earliestyear=df['Birth Year'].min()\n",
        "    print('The earliest year of birth is:{}'.format(earliestyear))\n",
        "    mostrecentyear=df['Birth Year'].max()\n",
        "    print('The most recent year of birth is:{}'.format(mostrecentyear))\n",
        "    mostcommonyear=df['Birth Year'].idxmax()\n",
        "    print('The most common year of birth is:{}'.format(mostcommonyear))\n",
        "    #return gendercounts.values ,earliestyear ,mostrecentyear ,mostcommonyear\n",
        "    \n",
        "\n",
        "\n",
        "  print(\"\\nThis took %s seconds.\" % (time.time() - start_time))\n",
        "  print('-'*40)\n",
        "  \n",
        "\n"
      ],
      "execution_count": null,
      "outputs": []
    },
    {
      "cell_type": "markdown",
      "metadata": {
        "id": "p5YEExDP5jnz"
      },
      "source": [
        "#Displaying the EDA results"
      ]
    },
    {
      "cell_type": "code",
      "metadata": {
        "id": "hf5AWOvm5WmS"
      },
      "source": [
        "\n",
        "  def display_data():\n",
        "\n",
        "    options={'yes':'','no':''}\n",
        "    start_loc = 0\n",
        "\n",
        "    while True:\n",
        "      try:\n",
        "        view_data = str(input('\\nWould you like to view 5 rows of individual trip data? Enter yes or no\\n')).lower()\n",
        "        options[view_data]\n",
        "        break\n",
        "      except:\n",
        "        print('Its an invalid choise, Re-enter it again')\n",
        "\n",
        "    while view_data=='yes':\n",
        "      print(df.iloc[start_loc:start_loc+5])\n",
        "      start_loc = start_loc + 5\n",
        "      \n",
        "      while True:\n",
        "        try:\n",
        "          view_data = input(\"Do you wish to continue? Enter yes or no\\n :\").lower()\n",
        "          options[view_data]\n",
        "          break\n",
        "        except:\n",
        "          print('Its an invalid choise, Re-enter it again')\n",
        "\n",
        "  display_data()\n",
        "\n",
        "#print(user_stats(df))"
      ],
      "execution_count": null,
      "outputs": []
    },
    {
      "cell_type": "code",
      "metadata": {
        "id": "GKIlWE7W55H4"
      },
      "source": [
        ""
      ],
      "execution_count": null,
      "outputs": []
    },
    {
      "cell_type": "code",
      "metadata": {
        "colab": {
          "base_uri": "https://localhost:8080/"
        },
        "id": "1H8_Btr7vyDP",
        "outputId": "907fdffc-d593-48ad-ec15-1a2323b64aa9"
      },
      "source": [
        "def main():\n",
        "    while True:\n",
        "        city, month, day = get_filters()\n",
        "        df = load_data(city, month, day)\n",
        "\n",
        "        time_stats(df)\n",
        "        station_stats(df)\n",
        "        trip_duration_stats(df)\n",
        "        user_stats(df, city)\n",
        "\n",
        "        restart = input('\\nWould you like to restart? Enter yes or no.\\n')\n",
        "        if restart.lower() != 'yes':\n",
        "            break\n",
        "\n",
        "\n",
        "if __name__ == \"__main__\":\n",
        "\tmain()\n"
      ],
      "execution_count": null,
      "outputs": [
        {
          "output_type": "stream",
          "text": [
            "Hello! Let's explore some US bikeshare data!\n",
            "Choose a city name to analyze from(Chicago,Newyork,Washington)Newyork\n",
            "Choose a month name to analyze from(\"All\",\"January\", \"February\", \"March\", \"April\", \"May\", \"June\")March\n",
            "Choose a day name to analyze from(\"All\",\"Saturday\",\"Sunday\",\"Monday\",\"Tuesday\",\"Wednesday\",\"Thursday\",\"Friday\")Thursday\n",
            "----------------------------------------\n",
            "The Entered Filters are, City:Newyork , Month:March , Day:Thursday\n",
            "The Columns Name of Choosen DataFrame are:Index(['Unnamed: 0', 'Start Time', 'End Time', 'Trip Duration',\n",
            "       'Start Station', 'End Station', 'User Type', 'Gender', 'Birth Year',\n",
            "       'day_of_week', 'month'],\n",
            "      dtype='object')\n",
            "\n",
            "Calculating The Most Frequent Times of Travel...\n",
            "\n",
            "The Time Statistics are, Common Months:March , Common Days:Thursday , Common Starting Hours:08\n",
            "\n",
            "This took 0.011808156967163086 seconds.\n",
            "----------------------------------------\n",
            "\n",
            "Calculating The Most Popular Stations and Trip...\n",
            "\n",
            "The most commonly used start station is:Pershing Square North \n",
            "The most commonly used end station is:Pershing Square North \n",
            "The most frequent combination of start station and end station trip is:Pershing Square NorthW 33 St & 7 Ave \n",
            "\n",
            "This took 0.009011507034301758 seconds.\n",
            "----------------------------------------\n",
            "\n",
            "Calculating Trip Duration...\n",
            "\n",
            "The Trip Duration Statistics are, Total Travel Time:5004691 , Mean Travel Time:745.3002233804914\n",
            "\n",
            "This took 0.0007359981536865234 seconds.\n",
            "----------------------------------------\n",
            "The Trip Duration Statistics are, Total Travel Time:5004691 , Mean Travel Time:745.3002233804914\n",
            "\n",
            "Calculating User Stats...\n",
            "\n",
            "The counts of user types is:Subscriber    6422\n",
            "Customer       238\n",
            "Name: User Type, dtype: int64\n",
            "\n",
            "This took 0.0027146339416503906 seconds.\n",
            "----------------------------------------\n",
            "\n",
            "Would you like to view 5 rows of individual trip data? Enter yes or no\n",
            "no\n",
            "\n",
            "Would you like to restart? Enter yes or no.\n",
            "yes\n",
            "Hello! Let's explore some US bikeshare data!\n",
            "Choose a city name to analyze from(Chicago,Newyork,Washington)Chicago\n",
            "Choose a month name to analyze from(\"All\",\"January\", \"February\", \"March\", \"April\", \"May\", \"June\")March\n",
            "Choose a day name to analyze from(\"All\",\"Saturday\",\"Sunday\",\"Monday\",\"Tuesday\",\"Wednesday\",\"Thursday\",\"Friday\")Wednesday\n",
            "----------------------------------------\n",
            "The Entered Filters are, City:Chicago , Month:March , Day:Wednesday\n",
            "The Columns Name of Choosen DataFrame are:Index(['Unnamed: 0', 'Start Time', 'End Time', 'Trip Duration',\n",
            "       'Start Station', 'End Station', 'User Type', 'Gender', 'Birth Year',\n",
            "       'day_of_week', 'month'],\n",
            "      dtype='object')\n",
            "\n",
            "Calculating The Most Frequent Times of Travel...\n",
            "\n",
            "The Time Statistics are, Common Months:March , Common Days:Wednesday , Common Starting Hours:17\n",
            "\n",
            "This took 0.05391550064086914 seconds.\n",
            "----------------------------------------\n",
            "\n",
            "Calculating The Most Popular Stations and Trip...\n",
            "\n",
            "The most commonly used start station is:Clinton St & Washington Blvd \n",
            "The most commonly used end station is:Clinton St & Madison St \n",
            "The most frequent combination of start station and end station trip is:Clark St & Berwyn AveBroadway & Berwyn Ave \n",
            "\n",
            "This took 0.00781702995300293 seconds.\n",
            "----------------------------------------\n",
            "\n",
            "Calculating Trip Duration...\n",
            "\n",
            "The Trip Duration Statistics are, Total Travel Time:3136764 , Mean Travel Time:628.3581730769231\n",
            "\n",
            "This took 0.0008695125579833984 seconds.\n",
            "----------------------------------------\n",
            "The Trip Duration Statistics are, Total Travel Time:3136764 , Mean Travel Time:628.3581730769231\n",
            "\n",
            "Calculating User Stats...\n",
            "\n",
            "The counts of user types is:Subscriber    4829\n",
            "Customer       163\n",
            "Name: User Type, dtype: int64\n",
            "The counts of gender is:Male      3911\n",
            "Female     917\n",
            "Name: Gender, dtype: int64\n",
            "The earliest year of birth is:1918.0\n",
            "The most recent year of birth is:2000.0\n",
            "The most common year of birth is:199325\n",
            "\n",
            "This took 0.006242036819458008 seconds.\n",
            "----------------------------------------\n",
            "\n",
            "Would you like to view 5 rows of individual trip data? Enter yes or no\n",
            "yes\n",
            "     Unnamed: 0          Start Time  ... month  Starting Hour\n",
            "96       422563 2017-03-29 18:02:41  ...     3             18\n",
            "141      343559 2017-03-15 07:30:23  ...     3             07\n",
            "148      418094 2017-03-29 07:27:35  ...     3             07\n",
            "179      417778 2017-03-29 06:40:29  ...     3             06\n",
            "286      380935 2017-03-22 15:08:00  ...     3             15\n",
            "\n",
            "[5 rows x 12 columns]\n",
            "Do you wish to continue? Enter yes or no\n",
            " :yes\n",
            "     Unnamed: 0          Start Time  ... month  Starting Hour\n",
            "347      383605 2017-03-22 22:15:31  ...     3             22\n",
            "410      382061 2017-03-22 17:23:37  ...     3             17\n",
            "621      320118 2017-03-08 16:49:28  ...     3             16\n",
            "625      278671 2017-03-01 07:01:12  ...     3             07\n",
            "704      280216 2017-03-01 11:15:41  ...     3             11\n",
            "\n",
            "[5 rows x 12 columns]\n"
          ],
          "name": "stdout"
        }
      ]
    }
  ]
}